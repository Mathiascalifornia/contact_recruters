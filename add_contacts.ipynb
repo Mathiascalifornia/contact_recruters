{
 "cells": [
  {
   "cell_type": "code",
   "execution_count": 1,
   "metadata": {},
   "outputs": [
    {
     "name": "stderr",
     "output_type": "stream",
     "text": [
      "C:\\Users\\User\\AppData\\Local\\Temp\\ipykernel_18504\\687558935.py:4: DeprecationWarning: \n",
      "Pyarrow will become a required dependency of pandas in the next major release of pandas (pandas 3.0),\n",
      "(to allow more performant data types, such as the Arrow string type, and better interoperability with other libraries)\n",
      "but was not found to be installed on your system.\n",
      "If this would cause problems for you,\n",
      "please provide us feedback at https://github.com/pandas-dev/pandas/issues/54466\n",
      "        \n",
      "  import pandas as pd\n"
     ]
    }
   ],
   "source": [
    "import glob \n",
    "import time\n",
    "\n",
    "import pandas as pd \n",
    "import json\n",
    "\n",
    "\n",
    "from selenium import webdriver\n",
    "from selenium.webdriver.common.by import By\n",
    "from selenium.webdriver.common.keys import Keys\n",
    "from selenium.webdriver.common.action_chains import ActionChains\n",
    "from selenium.webdriver.support.ui import WebDriverWait\n",
    "from selenium.webdriver.support import expected_conditions as EC\n",
    "\n",
    "\n",
    "import warnings\n",
    "warnings.filterwarnings(\"ignore\")\n",
    "\n",
    "from config import *"
   ]
  },
  {
   "cell_type": "code",
   "execution_count": 2,
   "metadata": {},
   "outputs": [],
   "source": [
    "### Constants ###\n",
    "base_url = \"https://www.linkedin.com\"\n",
    "driver = webdriver.Chrome()\n",
    "wait_time = 10\n",
    "\n",
    "\n",
    "\n",
    "wait_and_get_element = lambda x : WebDriverWait(driver, wait_time).until(\n",
    "        EC.presence_of_element_located((By.XPATH, (x)))\n",
    "    )"
   ]
  },
  {
   "cell_type": "code",
   "execution_count": 3,
   "metadata": {},
   "outputs": [],
   "source": [
    "### Xpaths ### \n",
    "\n",
    "# Login buttons\n",
    "login_email = '//input[@id=\"session_key\"]'\n",
    "input_password = '//input[@id=\"session_password\"]'\n",
    "login_button = '//button[contains(text() , \"identifier\")]'\n",
    "input_password_2 = '//input[@id=\"password\"]'\n",
    "accept_cookie_button = '//button[@action-type=\"ACCEPT\"]'\n",
    "identif_button = '(//a[contains(text() , \"S’identifier\")])[1]'\n",
    "\n",
    "# Text the recruters button\n",
    "message_button = '(//button[contains(@aria-label, \"Envoyer un message\")])[2]'\n",
    "connect_button = '(//button[contains(@aria-label, \"Invitez\")])[2]'\n",
    "confirm_invit = '(//button[contains(@aria-label, \"Envoyer\")])[1]'"
   ]
  },
  {
   "cell_type": "code",
   "execution_count": 4,
   "metadata": {},
   "outputs": [],
   "source": [
    "# Load and prepare cookies\n",
    "cookie_url = glob.glob(r\"data/cookies/*linkedin*\")[0]\n",
    "with open(cookie_url, \"r\") as file:\n",
    "    cookies:list = json.load(file)[\"cookies\"]\n",
    "\n",
    "def map_samesite_value(value):\n",
    "    if value not in [\"Strict\", \"Lax\", \"None\"]:\n",
    "        return \"None\"\n",
    "    return value\n",
    "\n",
    "\n",
    "for cookie in cookies:\n",
    "    if \"sameSite\" in cookie:\n",
    "        cookie[\"sameSite\"] = map_samesite_value(cookie[\"sameSite\"])"
   ]
  },
  {
   "cell_type": "code",
   "execution_count": 5,
   "metadata": {},
   "outputs": [],
   "source": [
    "# Start the session\n",
    "driver.get(base_url)\n",
    "\n",
    "# Cookie feeding\n",
    "for cookie in cookies:\n",
    "    # Convertir expirationDate en entier, Selenium ne supporte pas les floats\n",
    "    if \"expirationDate\" in cookie:\n",
    "        cookie[\"expiry\"] = int(cookie[\"expirationDate\"])\n",
    "        del cookie[\"expirationDate\"]\n",
    "    driver.add_cookie(cookie)\n",
    "\n",
    "\n",
    "time.sleep(3)"
   ]
  },
  {
   "cell_type": "code",
   "execution_count": 6,
   "metadata": {},
   "outputs": [],
   "source": [
    "# Connexion \n",
    "try:\n",
    "    wait_and_get_element(accept_cookie_button).click()\n",
    "except:\n",
    "    pass\n",
    "\n",
    "try:\n",
    "    driver.find_element(By.XPATH , (login_button)).click()\n",
    "except:\n",
    "    driver.find_element(By.XPATH, (identif_button)).click()\n",
    "\n",
    "try:\n",
    "    email_input = wait_and_get_element(login_email)\n",
    "\n",
    "\n",
    "    password_input = wait_and_get_element(input_password)\n",
    "\n",
    "    email_input.send_keys(email)\n",
    "    password_input.send_keys(password)\n",
    "\n",
    "    driver.find_element(By.XPATH , (login_button)).click()\n",
    "except:\n",
    "    pass\n",
    "\n",
    "time.sleep(3)\n",
    "\n",
    "\n",
    "# Resend the password if needed \n",
    "try:\n",
    "    driver.find_element(By.XPATH , (input_password_2)).send_keys(password)\n",
    "    driver.find_element(By.XPATH , (login_button)).click()\n",
    "    time.sleep(3)\n",
    "except:\n",
    "    pass"
   ]
  },
  {
   "cell_type": "code",
   "execution_count": 8,
   "metadata": {},
   "outputs": [
    {
     "name": "stdout",
     "output_type": "stream",
     "text": [
      "Number of added recruters ;  79\n"
     ]
    }
   ],
   "source": [
    "counter = 0\n",
    "for link in df[\"LinkedIn\"]:\n",
    "    driver.get(link)\n",
    "    \n",
    "    try:\n",
    "        wait_and_get_element(connect_button).click()\n",
    "        wait_and_get_element(confirm_invit).click()\n",
    "        counter += 1\n",
    "    except:\n",
    "        pass\n",
    "\n",
    "    time.sleep(1)\n",
    "\n",
    "print(\"Number of added recruters ; \" , counter)"
   ]
  }
 ],
 "metadata": {
  "kernelspec": {
   "display_name": "Python 3",
   "language": "python",
   "name": "python3"
  },
  "language_info": {
   "codemirror_mode": {
    "name": "ipython",
    "version": 3
   },
   "file_extension": ".py",
   "mimetype": "text/x-python",
   "name": "python",
   "nbconvert_exporter": "python",
   "pygments_lexer": "ipython3",
   "version": "3.10.5"
  }
 },
 "nbformat": 4,
 "nbformat_minor": 2
}
